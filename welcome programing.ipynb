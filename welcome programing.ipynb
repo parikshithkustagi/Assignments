{
 "cells": [
  {
   "cell_type": "code",
   "execution_count": 1,
   "metadata": {},
   "outputs": [
    {
     "name": "stdout",
     "output_type": "stream",
     "text": [
      "welcome\n"
     ]
    }
   ],
   "source": [
    "print(\"welcome\")"
   ]
  },
  {
   "cell_type": "markdown",
   "metadata": {},
   "source": []
  },
  {
   "cell_type": "code",
   "execution_count": 2,
   "metadata": {},
   "outputs": [
    {
     "name": "stdout",
     "output_type": "stream",
     "text": [
      "a is lesser\n",
      "complete\n",
      "enter the value23\n",
      "23\n",
      "<class 'str'>\n"
     ]
    }
   ],
   "source": [
    "a=19\n",
    "if(a>20):\n",
    "    print(\"a is greater\")\n",
    "    if(a%2==0):\n",
    "        print(\"a is even\")\n",
    "    else:\n",
    "        (\"print a ais odd\")\n",
    "else:\n",
    "    print(\"a is lesser\")\n",
    "    print(\"complete\")\n",
    "c=(input(\"enter the value\"))\n",
    "print(c)\n",
    "print(type(c))\n",
    "\n"
   ]
  },
  {
   "cell_type": "code",
   "execution_count": null,
   "metadata": {},
   "outputs": [],
   "source": []
  }
 ],
 "metadata": {
  "kernelspec": {
   "display_name": "Python 3",
   "language": "python",
   "name": "python3"
  },
  "language_info": {
   "codemirror_mode": {
    "name": "ipython",
    "version": 3
   },
   "file_extension": ".py",
   "mimetype": "text/x-python",
   "name": "python",
   "nbconvert_exporter": "python",
   "pygments_lexer": "ipython3",
   "version": "3.6.5"
  }
 },
 "nbformat": 4,
 "nbformat_minor": 2
}
