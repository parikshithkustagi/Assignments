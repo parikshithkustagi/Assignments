{
 "cells": [
  {
   "cell_type": "code",
   "execution_count": 3,
   "metadata": {},
   "outputs": [
    {
     "name": "stdout",
     "output_type": "stream",
     "text": [
      "sandy\n",
      "sandy\n",
      "sandy\n",
      "jai\n",
      "jai\n",
      "jai\n",
      "papapap\n",
      "papapap\n",
      "papapap\n"
     ]
    }
   ],
   "source": [
    "l1=[\"sandy\",\"jai\",\"papapap\"] #This defines the list\n",
    "\n",
    "for i in l1:\n",
    "    a=0\n",
    "    while(a<3):\n",
    "         print(i)\n",
    "         a=a+1\n"
   ]
  },
  {
   "cell_type": "code",
   "execution_count": null,
   "metadata": {},
   "outputs": [],
   "source": [
    "str1=input(\"enter a string\")#Take a string as input from the user.\n",
    "str2=str1[::-1]#To find the reverse of a string.\n",
    "print(str2)\n",
    "if str1==str2:#Compare the original string and the reversed string.\n",
    "    print(\"pallindrome\")#If original and the reversed strings are equal, print as pallindrome.\n",
    "else:\n",
    "    print(\"not pallindrome\")#Else print that it is not a pallimdrome.\n"
   ]
  },
  {
   "cell_type": "markdown",
   "metadata": {},
   "source": [
    "var=33. The number to be guessed is 33.\n",
    "count=0. Counter is initialised to zero.\n",
    "guessnum=int(input(\"enter guessing number -\")). This line takes the number from the user.\n",
    "a=0\n",
    "while(a==0):\n",
    "    count=count+1\n",
    "    if(guessnum==var): Compares the user entered number with the number to be guessed.\n",
    "        print(\"congratulations. you have found out the number at the attempt\",count). If the number matches, inform user that he has won the contest and the attempt at which he has found the number \n",
    "        break\n",
    "    else:\n",
    "        print(\"try again\"). If match is not found, ask user to try again and again till he finds the number.\n",
    "        guessnum=int(input(\"enetr again-\"))\n",
    "                     \n",
    "\n"
   ]
  },
  {
   "cell_type": "code",
   "execution_count": null,
   "metadata": {},
   "outputs": [],
   "source": [
    "var=33\n",
    "count=0\n",
    "guessnum=int(input(\"enter guessing number -\"))\n",
    "a=0\n",
    "while(a==0):\n",
    "    count=count+1\n",
    "    if(guessnum==var):\n",
    "        print(\"congratulations. you have found out the number at the attempt-\",count)\n",
    "        break\n",
    "    else:\n",
    "        print(\"try again\")\n",
    "        guessnum=int(input(\"enetr again-\"))\n",
    "                     \n",
    "\n"
   ]
  },
  {
   "cell_type": "code",
   "execution_count": null,
   "metadata": {},
   "outputs": [],
   "source": []
  },
  {
   "cell_type": "code",
   "execution_count": null,
   "metadata": {},
   "outputs": [],
   "source": []
  },
  {
   "cell_type": "code",
   "execution_count": null,
   "metadata": {},
   "outputs": [],
   "source": []
  }
 ],
 "metadata": {
  "kernelspec": {
   "display_name": "Python 3",
   "language": "python",
   "name": "python3"
  },
  "language_info": {
   "codemirror_mode": {
    "name": "ipython",
    "version": 3
   },
   "file_extension": ".py",
   "mimetype": "text/x-python",
   "name": "python",
   "nbconvert_exporter": "python",
   "pygments_lexer": "ipython3",
   "version": "3.6.5"
  }
 },
 "nbformat": 4,
 "nbformat_minor": 2
}
